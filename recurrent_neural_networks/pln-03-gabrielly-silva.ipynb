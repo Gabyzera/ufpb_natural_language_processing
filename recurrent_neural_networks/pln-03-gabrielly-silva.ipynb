{
 "cells": [
  {
   "cell_type": "markdown",
   "metadata": {},
   "source": [
    "# 📰 Treinamento de uma rede neural recorrente (RNN) para classificar um conjunto de dados sobre notícias"
   ]
  },
  {
   "cell_type": "markdown",
   "metadata": {},
   "source": [
    "## 📚 Importação as bibliotecas"
   ]
  },
  {
   "cell_type": "code",
   "execution_count": 1,
   "metadata": {},
   "outputs": [
    {
     "name": "stderr",
     "output_type": "stream",
     "text": [
      "[nltk_data] Downloading package punkt_tab to\n",
      "[nltk_data]     C:\\Users\\gabri\\AppData\\Roaming\\nltk_data...\n",
      "[nltk_data]   Package punkt_tab is already up-to-date!\n"
     ]
    },
    {
     "data": {
      "text/plain": [
       "True"
      ]
     },
     "execution_count": 1,
     "metadata": {},
     "output_type": "execute_result"
    }
   ],
   "source": [
    "import nltk\n",
    "import torch\n",
    "import datasets\n",
    "import numpy as np\n",
    "from torch import nn\n",
    "from tqdm import tqdm\n",
    "from collections import Counter\n",
    "import matplotlib.pyplot as plt\n",
    "from torch.utils.data import Dataset\n",
    "from nltk.tokenize import word_tokenize\n",
    "from torch.utils.data import DataLoader\n",
    "\n",
    "nltk.download('punkt_tab')"
   ]
  },
  {
   "cell_type": "markdown",
   "metadata": {},
   "source": [
    "## 🔋 Carregamento dos dados"
   ]
  },
  {
   "cell_type": "code",
   "execution_count": 2,
   "metadata": {},
   "outputs": [
    {
     "data": {
      "text/plain": [
       "DatasetDict({\n",
       "    train: Dataset({\n",
       "        features: ['Title', 'Excerpt', 'Category'],\n",
       "        num_rows: 4686\n",
       "    })\n",
       "    test: Dataset({\n",
       "        features: ['Title', 'Excerpt', 'Category'],\n",
       "        num_rows: 828\n",
       "    })\n",
       "})"
      ]
     },
     "execution_count": 2,
     "metadata": {},
     "output_type": "execute_result"
    }
   ],
   "source": [
    "dataset = datasets.load_dataset(\"okite97/news-data\")\n",
    "dataset"
   ]
  },
  {
   "cell_type": "markdown",
   "metadata": {},
   "source": [
    "## 🪮 Pré-processamento\n",
    "**Conversão dos Rótulos:** Cada categoria de notícia é mapeada para um número inteiro, facilitando o treinamento do modelo de classificação."
   ]
  },
  {
   "cell_type": "code",
   "execution_count": 3,
   "metadata": {},
   "outputs": [],
   "source": [
    "categories = sorted(list(set(dataset['train']['Category'])))\n",
    "\n",
    "# Cria o mapeamento: cada categoria é associada a um número\n",
    "cat2id = {cat: i for i, cat in enumerate(categories)}\n",
    "id2cat = {i: cat for cat, i in cat2id.items()}\n",
    "\n",
    "def convert_label(example):\n",
    "    example['label'] = cat2id[example['Category']]\n",
    "    return example\n",
    "\n",
    "dataset = dataset.map(convert_label)"
   ]
  },
  {
   "cell_type": "code",
   "execution_count": 4,
   "metadata": {},
   "outputs": [
    {
     "name": "stdout",
     "output_type": "stream",
     "text": [
      "Tokens do 1º exemplo: ['uefa', 'has', 'opened', 'disciplinary', 'proceedings', 'against', 'barcelona', ',', 'juventus', 'and', 'real', 'madrid', 'over', 'their', 'involvement', 'in', 'the', 'proposed', 'european', 'super', 'league', '.']\n"
     ]
    }
   ],
   "source": [
    "def split_tokens(row):\n",
    "    row['tokens'] = word_tokenize(row['Excerpt'].lower())\n",
    "    return row\n",
    "dataset = dataset.map(split_tokens)\n",
    "print(\"Tokens do 1º exemplo:\", dataset['train'][0]['tokens'])"
   ]
  },
  {
   "cell_type": "code",
   "execution_count": 5,
   "metadata": {},
   "outputs": [
    {
     "name": "stdout",
     "output_type": "stream",
     "text": [
      "Total de tokens (train): 103711\n"
     ]
    }
   ],
   "source": [
    "all_tokens = []\n",
    "\n",
    "for tokens in dataset['train']['tokens']:\n",
    "  all_tokens.extend(tokens)\n",
    "print(\"Total de tokens (train):\", len(all_tokens))"
   ]
  },
  {
   "cell_type": "code",
   "execution_count": 6,
   "metadata": {},
   "outputs": [
    {
     "data": {
      "text/plain": [
       "[('the', 6168),\n",
       " (',', 3620),\n",
       " ('of', 3071),\n",
       " ('to', 2280),\n",
       " ('a', 2124),\n",
       " ('in', 1883),\n",
       " ('has', 1688),\n",
       " ('on', 1544),\n",
       " ('and', 1368),\n",
       " ('(', 1011)]"
      ]
     },
     "execution_count": 6,
     "metadata": {},
     "output_type": "execute_result"
    }
   ],
   "source": [
    "counts = Counter(all_tokens)\n",
    "counts.most_common(10)"
   ]
  },
  {
   "cell_type": "code",
   "execution_count": 7,
   "metadata": {},
   "outputs": [
    {
     "name": "stdout",
     "output_type": "stream",
     "text": [
      "Amostra do vocabulário: [(0, '<unk>'), (1, 'uefa'), (2, 'has'), (3, 'opened'), (4, 'proceedings'), (5, 'against'), (6, 'barcelona'), (7, ','), (8, 'juventus'), (9, 'and')]\n"
     ]
    }
   ],
   "source": [
    "vocab = [token for token, count in counts.items() if count >= 3]\n",
    "vocab = ['<unk>'] + vocab\n",
    "print(\"Amostra do vocabulário:\", list(enumerate(vocab[:10])))"
   ]
  },
  {
   "cell_type": "code",
   "execution_count": 8,
   "metadata": {},
   "outputs": [],
   "source": [
    "token2id = {token: idx for idx, token in enumerate(vocab)}"
   ]
  },
  {
   "cell_type": "code",
   "execution_count": 9,
   "metadata": {},
   "outputs": [],
   "source": [
    "def convert_tokens(tokens):\n",
    "  result = []\n",
    "  for token in tokens:\n",
    "    result.append(token2id.get(token, 0))\n",
    "\n",
    "  return result"
   ]
  },
  {
   "cell_type": "code",
   "execution_count": 10,
   "metadata": {},
   "outputs": [],
   "source": [
    "def tokens2ids(row):\n",
    "  row['tokens_id'] = convert_tokens(row['tokens'])\n",
    "  return row"
   ]
  },
  {
   "cell_type": "code",
   "execution_count": 11,
   "metadata": {},
   "outputs": [
    {
     "name": "stdout",
     "output_type": "stream",
     "text": [
      "Tokens convertidos para IDs (1º exemplo): [1, 2, 3, 0, 4, 5, 6, 7, 8, 9, 10, 11, 12, 13, 14, 15, 16, 17, 18, 19, 20, 21]\n"
     ]
    }
   ],
   "source": [
    "dataset['train'] = dataset['train'].map(tokens2ids)\n",
    "dataset['test'] = dataset['test'].map(tokens2ids)\n",
    "print(\"Tokens convertidos para IDs (1º exemplo):\", dataset['train'][0]['tokens_id'])"
   ]
  },
  {
   "cell_type": "markdown",
   "metadata": {},
   "source": [
    "## 🧱 Criação do Dataset Personalizado\n",
    "\n",
    "A classe `NewsDataset` herda é responsável por retornar os dados (tokens convertidos para IDs) e os rótulos correspondentes. Em seguida, utilizamos o `DataLoader` para embaralhar e agrupar os dados durante o treinamento."
   ]
  },
  {
   "cell_type": "code",
   "execution_count": 12,
   "metadata": {},
   "outputs": [],
   "source": [
    "class NewsDataset(Dataset):\n",
    "  def __init__(self, dataset):\n",
    "    self.data = dataset['tokens_id']\n",
    "    self.labels = dataset['label']\n",
    "\n",
    "  def __len__(self):\n",
    "    return len(self.labels)\n",
    "\n",
    "  def __getitem__(self, idx):\n",
    "    return torch.tensor(self.data[idx]), torch.tensor(self.labels[idx])"
   ]
  },
  {
   "cell_type": "code",
   "execution_count": 13,
   "metadata": {},
   "outputs": [
    {
     "data": {
      "text/plain": [
       "4686"
      ]
     },
     "execution_count": 13,
     "metadata": {},
     "output_type": "execute_result"
    }
   ],
   "source": [
    "train_dataset = NewsDataset(dataset['train'])\n",
    "len(train_dataset)"
   ]
  },
  {
   "cell_type": "code",
   "execution_count": 14,
   "metadata": {},
   "outputs": [],
   "source": [
    "dataloader = DataLoader(train_dataset, shuffle=True)"
   ]
  },
  {
   "cell_type": "markdown",
   "metadata": {},
   "source": [
    "## 🏛️ Arquitetura do Modelo\n",
    "\n",
    "Utilização de RNN composta por:\n",
    "\n",
    "- **Camada de Embedding:** Converte IDs de tokens em vetores densos de tamanho 128.\n",
    "- **RNN:** Uma rede com 2 camadas e 32 unidades ocultas.\n",
    "- **Camada Linear:** Mapeia a última saída da RNN para as 6 classes de notícias.\n"
   ]
  },
  {
   "cell_type": "code",
   "execution_count": 15,
   "metadata": {},
   "outputs": [],
   "source": [
    "N_LAYERS = 2\n",
    "EMBED_LEN = 128\n",
    "HIDDEN_DIM = 32\n",
    "NUM_CLASSES = len(set(dataset['train']['Category']))  # Número de categorias: 'business', 'entertainment', 'health', 'politics', 'sports', 'tech'\n",
    "\n",
    "class TextClassifier(nn.Module):\n",
    "  def __init__(self):\n",
    "    super().__init__()\n",
    "    self.embedding_layer = nn.Embedding(num_embeddings=len(vocab), embedding_dim=EMBED_LEN)\n",
    "    self.rnn = nn.RNN(input_size=EMBED_LEN, hidden_size=HIDDEN_DIM, num_layers=N_LAYERS, batch_first=True)\n",
    "    self.linear = nn.Linear(HIDDEN_DIM, NUM_CLASSES)\n",
    "\n",
    "  def forward(self, input):\n",
    "    embeddings = self.embedding_layer(input)\n",
    "    output, final_hidden = self.rnn(embeddings)\n",
    "\n",
    "    return self.linear(final_hidden[-1])"
   ]
  },
  {
   "cell_type": "markdown",
   "metadata": {},
   "source": [
    "## 👩🏼‍🏫 Treinamento e Avaliação\n",
    "\n",
    "Durante o treinamento, a função de perda é calculada para cada batch e os gradientes são atualizados utilizando o otimizador Adam. Após cada época, o modelo é avaliado no conjunto de teste, onde também calculamos a acurácia. Os resultados são plotados para análise do desempenho ao longo das épocas."
   ]
  },
  {
   "cell_type": "code",
   "execution_count": 16,
   "metadata": {},
   "outputs": [],
   "source": [
    "model = TextClassifier()\n",
    "\n",
    "LR = 1e-3\n",
    "EPOCHS = 5\n",
    "loss_fn = nn.CrossEntropyLoss()\n",
    "optimizer = torch.optim.Adam(model.parameters(), lr=LR)"
   ]
  },
  {
   "cell_type": "code",
   "execution_count": 17,
   "metadata": {},
   "outputs": [
    {
     "data": {
      "text/plain": [
       "TextClassifier(\n",
       "  (embedding_layer): Embedding(4094, 128)\n",
       "  (rnn): RNN(128, 32, num_layers=2, batch_first=True)\n",
       "  (linear): Linear(in_features=32, out_features=6, bias=True)\n",
       ")"
      ]
     },
     "execution_count": 17,
     "metadata": {},
     "output_type": "execute_result"
    }
   ],
   "source": [
    "device = torch.device(\"cuda\" if torch.cuda.is_available() else \"cpu\")\n",
    "model.to(device)"
   ]
  },
  {
   "cell_type": "code",
   "execution_count": 18,
   "metadata": {},
   "outputs": [],
   "source": [
    "def train(dataloader):\n",
    "  size = len(dataloader.dataset)\n",
    "  train_loss = []\n",
    "\n",
    "  for batch, (data, label) in enumerate(tqdm(dataloader)):\n",
    "    data, label = data.to(device), label.to(device)\n",
    "    optimizer.zero_grad()\n",
    "    \n",
    "    out = model(data)\n",
    "    \n",
    "    loss = loss_fn(out, label)\n",
    "    train_loss.append(loss.item())\n",
    "    \n",
    "    loss.backward()\n",
    "    optimizer.step()\n",
    "\n",
    "    if batch % 1000 == 0:\n",
    "      loss_val, current = loss.item(), batch * len(data)\n",
    "      print(f' loss: {loss_val:>7f}  [{current:>5d}/{size:>5d}]')\n",
    "\n",
    "  return train_loss"
   ]
  },
  {
   "cell_type": "code",
   "execution_count": 19,
   "metadata": {},
   "outputs": [],
   "source": [
    "def test(dataloader):\n",
    "  size = len(dataloader.dataset)\n",
    "  test_loss = []\n",
    "  correct = 0\n",
    "\n",
    "  with torch.no_grad():\n",
    "    for data, label in tqdm(dataloader):\n",
    "      data, label = data.to(device), label.to(device)\n",
    "      out = model(data)\n",
    "\n",
    "      loss = loss_fn(out, label)\n",
    "      test_loss.append(loss.item())\n",
    "\n",
    "      preds = torch.argmax(out, dim=1)\n",
    "      correct += (preds == label).sum().item()\n",
    "      \n",
    "  accuracy = correct / size\n",
    "  print(f' test accuracy: {(100*accuracy):>0.1f}%, test loss: {test_loss[-1]:>8f} ')\n",
    "\n",
    "  return test_loss"
   ]
  },
  {
   "cell_type": "code",
   "execution_count": 20,
   "metadata": {},
   "outputs": [],
   "source": [
    "test_dataset = NewsDataset(dataset['test'])\n",
    "dataloader_test = DataLoader(test_dataset, shuffle=True)"
   ]
  },
  {
   "cell_type": "code",
   "execution_count": 21,
   "metadata": {},
   "outputs": [
    {
     "name": "stdout",
     "output_type": "stream",
     "text": [
      "Epoch 1 -------------------------------\n",
      "Train\n"
     ]
    },
    {
     "name": "stderr",
     "output_type": "stream",
     "text": [
      "  0%|          | 1/4686 [00:00<08:52,  8.79it/s]"
     ]
    },
    {
     "name": "stdout",
     "output_type": "stream",
     "text": [
      " loss: 2.132905  [    0/ 4686]\n"
     ]
    },
    {
     "name": "stderr",
     "output_type": "stream",
     "text": [
      " 22%|██▏       | 1012/4686 [00:11<01:17, 47.14it/s]"
     ]
    },
    {
     "name": "stdout",
     "output_type": "stream",
     "text": [
      " loss: 1.340491  [ 1000/ 4686]\n"
     ]
    },
    {
     "name": "stderr",
     "output_type": "stream",
     "text": [
      " 43%|████▎     | 2009/4686 [00:26<00:41, 64.11it/s]"
     ]
    },
    {
     "name": "stdout",
     "output_type": "stream",
     "text": [
      " loss: 1.482255  [ 2000/ 4686]\n"
     ]
    },
    {
     "name": "stderr",
     "output_type": "stream",
     "text": [
      " 64%|██████▍   | 3010/4686 [00:45<00:25, 66.69it/s]"
     ]
    },
    {
     "name": "stdout",
     "output_type": "stream",
     "text": [
      " loss: 1.124005  [ 3000/ 4686]\n"
     ]
    },
    {
     "name": "stderr",
     "output_type": "stream",
     "text": [
      " 86%|████████▌ | 4010/4686 [01:04<00:11, 58.34it/s]"
     ]
    },
    {
     "name": "stdout",
     "output_type": "stream",
     "text": [
      " loss: 1.064018  [ 4000/ 4686]\n"
     ]
    },
    {
     "name": "stderr",
     "output_type": "stream",
     "text": [
      "100%|██████████| 4686/4686 [01:16<00:00, 61.45it/s]\n"
     ]
    },
    {
     "name": "stdout",
     "output_type": "stream",
     "text": [
      "Test\n"
     ]
    },
    {
     "name": "stderr",
     "output_type": "stream",
     "text": [
      "100%|██████████| 828/828 [00:01<00:00, 614.21it/s]\n"
     ]
    },
    {
     "name": "stdout",
     "output_type": "stream",
     "text": [
      " test accuracy: 41.2%, test loss: 0.516168 \n",
      "Epoch 2 -------------------------------\n",
      "Train\n"
     ]
    },
    {
     "name": "stderr",
     "output_type": "stream",
     "text": [
      "  0%|          | 6/4686 [00:00<01:29, 52.43it/s]"
     ]
    },
    {
     "name": "stdout",
     "output_type": "stream",
     "text": [
      " loss: 2.359738  [    0/ 4686]\n"
     ]
    },
    {
     "name": "stderr",
     "output_type": "stream",
     "text": [
      " 22%|██▏       | 1011/4686 [00:17<01:51, 33.07it/s]"
     ]
    },
    {
     "name": "stdout",
     "output_type": "stream",
     "text": [
      " loss: 0.612372  [ 1000/ 4686]\n"
     ]
    },
    {
     "name": "stderr",
     "output_type": "stream",
     "text": [
      " 43%|████▎     | 2005/4686 [00:34<00:51, 51.57it/s]"
     ]
    },
    {
     "name": "stdout",
     "output_type": "stream",
     "text": [
      " loss: 1.097106  [ 2000/ 4686]\n"
     ]
    },
    {
     "name": "stderr",
     "output_type": "stream",
     "text": [
      " 64%|██████▍   | 3014/4686 [00:50<00:19, 85.38it/s] "
     ]
    },
    {
     "name": "stdout",
     "output_type": "stream",
     "text": [
      " loss: 1.175413  [ 3000/ 4686]\n"
     ]
    },
    {
     "name": "stderr",
     "output_type": "stream",
     "text": [
      " 86%|████████▌ | 4010/4686 [01:02<00:07, 87.61it/s]"
     ]
    },
    {
     "name": "stdout",
     "output_type": "stream",
     "text": [
      " loss: 1.437519  [ 4000/ 4686]\n"
     ]
    },
    {
     "name": "stderr",
     "output_type": "stream",
     "text": [
      "100%|██████████| 4686/4686 [01:11<00:00, 65.69it/s]\n"
     ]
    },
    {
     "name": "stdout",
     "output_type": "stream",
     "text": [
      "Test\n"
     ]
    },
    {
     "name": "stderr",
     "output_type": "stream",
     "text": [
      "100%|██████████| 828/828 [00:00<00:00, 1058.00it/s]\n"
     ]
    },
    {
     "name": "stdout",
     "output_type": "stream",
     "text": [
      " test accuracy: 46.9%, test loss: 0.443107 \n",
      "Epoch 3 -------------------------------\n",
      "Train\n"
     ]
    },
    {
     "name": "stderr",
     "output_type": "stream",
     "text": [
      "  0%|          | 10/4686 [00:00<00:49, 94.24it/s]"
     ]
    },
    {
     "name": "stdout",
     "output_type": "stream",
     "text": [
      " loss: 0.124789  [    0/ 4686]\n"
     ]
    },
    {
     "name": "stderr",
     "output_type": "stream",
     "text": [
      " 22%|██▏       | 1010/4686 [00:12<00:44, 81.85it/s]"
     ]
    },
    {
     "name": "stdout",
     "output_type": "stream",
     "text": [
      " loss: 0.866019  [ 1000/ 4686]\n"
     ]
    },
    {
     "name": "stderr",
     "output_type": "stream",
     "text": [
      " 43%|████▎     | 2015/4686 [00:24<00:30, 88.27it/s]"
     ]
    },
    {
     "name": "stdout",
     "output_type": "stream",
     "text": [
      " loss: 0.115951  [ 2000/ 4686]\n"
     ]
    },
    {
     "name": "stderr",
     "output_type": "stream",
     "text": [
      " 64%|██████▍   | 3010/4686 [00:36<00:21, 78.14it/s]"
     ]
    },
    {
     "name": "stdout",
     "output_type": "stream",
     "text": [
      " loss: 0.697177  [ 3000/ 4686]\n"
     ]
    },
    {
     "name": "stderr",
     "output_type": "stream",
     "text": [
      " 86%|████████▌ | 4008/4686 [00:48<00:08, 83.39it/s]"
     ]
    },
    {
     "name": "stdout",
     "output_type": "stream",
     "text": [
      " loss: 1.995893  [ 4000/ 4686]\n"
     ]
    },
    {
     "name": "stderr",
     "output_type": "stream",
     "text": [
      "100%|██████████| 4686/4686 [00:56<00:00, 83.17it/s]\n"
     ]
    },
    {
     "name": "stdout",
     "output_type": "stream",
     "text": [
      "Test\n"
     ]
    },
    {
     "name": "stderr",
     "output_type": "stream",
     "text": [
      "100%|██████████| 828/828 [00:00<00:00, 1112.65it/s]\n"
     ]
    },
    {
     "name": "stdout",
     "output_type": "stream",
     "text": [
      " test accuracy: 55.2%, test loss: 0.171092 \n",
      "Epoch 4 -------------------------------\n",
      "Train\n"
     ]
    },
    {
     "name": "stderr",
     "output_type": "stream",
     "text": [
      "  0%|          | 14/4686 [00:00<00:35, 132.86it/s]"
     ]
    },
    {
     "name": "stdout",
     "output_type": "stream",
     "text": [
      " loss: 1.880299  [    0/ 4686]\n"
     ]
    },
    {
     "name": "stderr",
     "output_type": "stream",
     "text": [
      " 22%|██▏       | 1009/4686 [00:12<00:46, 78.78it/s]"
     ]
    },
    {
     "name": "stdout",
     "output_type": "stream",
     "text": [
      " loss: 2.175457  [ 1000/ 4686]\n"
     ]
    },
    {
     "name": "stderr",
     "output_type": "stream",
     "text": [
      " 43%|████▎     | 2009/4686 [00:24<00:30, 86.94it/s]"
     ]
    },
    {
     "name": "stdout",
     "output_type": "stream",
     "text": [
      " loss: 1.246150  [ 2000/ 4686]\n"
     ]
    },
    {
     "name": "stderr",
     "output_type": "stream",
     "text": [
      " 64%|██████▍   | 3013/4686 [00:36<00:20, 82.48it/s]"
     ]
    },
    {
     "name": "stdout",
     "output_type": "stream",
     "text": [
      " loss: 2.047312  [ 3000/ 4686]\n"
     ]
    },
    {
     "name": "stderr",
     "output_type": "stream",
     "text": [
      " 86%|████████▌ | 4014/4686 [00:49<00:08, 82.95it/s]"
     ]
    },
    {
     "name": "stdout",
     "output_type": "stream",
     "text": [
      " loss: 2.542472  [ 4000/ 4686]\n"
     ]
    },
    {
     "name": "stderr",
     "output_type": "stream",
     "text": [
      "100%|██████████| 4686/4686 [00:57<00:00, 81.75it/s]\n"
     ]
    },
    {
     "name": "stdout",
     "output_type": "stream",
     "text": [
      "Test\n"
     ]
    },
    {
     "name": "stderr",
     "output_type": "stream",
     "text": [
      "100%|██████████| 828/828 [00:00<00:00, 1015.04it/s]\n"
     ]
    },
    {
     "name": "stdout",
     "output_type": "stream",
     "text": [
      " test accuracy: 61.1%, test loss: 3.174726 \n",
      "Epoch 5 -------------------------------\n",
      "Train\n"
     ]
    },
    {
     "name": "stderr",
     "output_type": "stream",
     "text": [
      "  0%|          | 9/4686 [00:00<00:56, 82.44it/s]"
     ]
    },
    {
     "name": "stdout",
     "output_type": "stream",
     "text": [
      " loss: 1.886587  [    0/ 4686]\n"
     ]
    },
    {
     "name": "stderr",
     "output_type": "stream",
     "text": [
      " 22%|██▏       | 1017/4686 [00:12<00:44, 82.07it/s]"
     ]
    },
    {
     "name": "stdout",
     "output_type": "stream",
     "text": [
      " loss: 1.225087  [ 1000/ 4686]\n"
     ]
    },
    {
     "name": "stderr",
     "output_type": "stream",
     "text": [
      " 43%|████▎     | 2019/4686 [00:24<00:26, 100.66it/s]"
     ]
    },
    {
     "name": "stdout",
     "output_type": "stream",
     "text": [
      " loss: 1.565302  [ 2000/ 4686]\n"
     ]
    },
    {
     "name": "stderr",
     "output_type": "stream",
     "text": [
      " 64%|██████▍   | 3015/4686 [00:37<00:17, 92.96it/s] "
     ]
    },
    {
     "name": "stdout",
     "output_type": "stream",
     "text": [
      " loss: 0.192485  [ 3000/ 4686]\n"
     ]
    },
    {
     "name": "stderr",
     "output_type": "stream",
     "text": [
      " 86%|████████▌ | 4009/4686 [00:50<00:07, 91.85it/s]"
     ]
    },
    {
     "name": "stdout",
     "output_type": "stream",
     "text": [
      " loss: 0.595828  [ 4000/ 4686]\n"
     ]
    },
    {
     "name": "stderr",
     "output_type": "stream",
     "text": [
      "100%|██████████| 4686/4686 [00:58<00:00, 79.59it/s]\n"
     ]
    },
    {
     "name": "stdout",
     "output_type": "stream",
     "text": [
      "Test\n"
     ]
    },
    {
     "name": "stderr",
     "output_type": "stream",
     "text": [
      "100%|██████████| 828/828 [00:00<00:00, 992.95it/s] \n"
     ]
    },
    {
     "name": "stdout",
     "output_type": "stream",
     "text": [
      " test accuracy: 62.9%, test loss: 2.666622 \n"
     ]
    }
   ],
   "source": [
    "train_losses = []\n",
    "test_losses = []\n",
    "\n",
    "for epoch in range(EPOCHS):\n",
    "    print(f'Epoch {epoch+1} -------------------------------')\n",
    "\n",
    "    print('Train')\n",
    "    train_losses.append(train(dataloader))\n",
    "\n",
    "    print('Test')\n",
    "    test_losses.append(test(dataloader_test))"
   ]
  },
  {
   "cell_type": "code",
   "execution_count": 22,
   "metadata": {},
   "outputs": [],
   "source": [
    "epoch_train_loss = [np.mean(losses) for losses in train_losses]\n",
    "epoch_test_loss = [np.mean(losses) for losses in test_losses]"
   ]
  },
  {
   "cell_type": "code",
   "execution_count": 23,
   "metadata": {},
   "outputs": [
    {
     "data": {
      "image/png": "[encoded data removed]",
      "text/plain": [
       "<Figure size 640x480 with 1 Axes>"
      ]
     },
     "metadata": {},
     "output_type": "display_data"
    }
   ],
   "source": [
    "plt.plot(epoch_train_loss, label='Train Loss')\n",
    "plt.plot(epoch_test_loss, label='Test Loss')\n",
    "plt.xlabel('Epoch')\n",
    "plt.ylabel('Loss')\n",
    "plt.title('Loss por Época')\n",
    "plt.legend()\n",
    "plt.show()"
   ]
  }
 ],
 "metadata": {
  "kernelspec": {
   "display_name": "Python 3",
   "language": "python",
   "name": "python3"
  },
  "language_info": {
   "codemirror_mode": {
    "name": "ipython",
    "version": 3
   },
   "file_extension": ".py",
   "mimetype": "text/x-python",
   "name": "python",
   "nbconvert_exporter": "python",
   "pygments_lexer": "ipython3",
   "version": "3.12.1"
  }
 },
 "nbformat": 4,
 "nbformat_minor": 2
}
