{
 "cells": [
  {
   "cell_type": "markdown",
   "metadata": {},
   "source": [
    "# 🎭 Análise de sentimentos utilizando o classificador Naive Bayes"
   ]
  },
  {
   "cell_type": "markdown",
   "metadata": {},
   "source": [
    "## 📚 Importação das bibliotecas"
   ]
  },
  {
   "cell_type": "code",
   "execution_count": 1,
   "metadata": {},
   "outputs": [
    {
     "name": "stderr",
     "output_type": "stream",
     "text": [
      "C:\\Users\\gabri\\AppData\\Local\\Temp\\ipykernel_23764\\3082362793.py:2: DeprecationWarning: \n",
      "Pyarrow will become a required dependency of pandas in the next major release of pandas (pandas 3.0),\n",
      "(to allow more performant data types, such as the Arrow string type, and better interoperability with other libraries)\n",
      "but was not found to be installed on your system.\n",
      "If this would cause problems for you,\n",
      "please provide us feedback at https://github.com/pandas-dev/pandas/issues/54466\n",
      "        \n",
      "  import pandas as pd\n"
     ]
    }
   ],
   "source": [
    "import re\n",
    "import pandas as pd\n",
    "import matplotlib.pyplot as plt\n",
    "from sklearn.metrics import accuracy_score\n",
    "from sklearn.naive_bayes import MultinomialNB\n",
    "from sklearn.model_selection import train_test_split\n",
    "from sklearn.feature_extraction.text import TfidfVectorizer"
   ]
  },
  {
   "cell_type": "markdown",
   "metadata": {},
   "source": [
    "## ⌛ Carregamento e limpeza dos dados\n",
    "1. Leitura do arquivo csv."
   ]
  },
  {
   "cell_type": "code",
   "execution_count": 2,
   "metadata": {},
   "outputs": [
    {
     "name": "stderr",
     "output_type": "stream",
     "text": [
      "C:\\Users\\gabri\\AppData\\Local\\Temp\\ipykernel_23764\\4230985551.py:1: DtypeWarning: Columns (2) have mixed types. Specify dtype option on import or set low_memory=False.\n",
      "  df_reviews = pd.read_csv('B2W-Reviews01.csv')\n"
     ]
    },
    {
     "data": {
      "text/html": [
       "<div>\n",
       "<style scoped>\n",
       "    .dataframe tbody tr th:only-of-type {\n",
       "        vertical-align: middle;\n",
       "    }\n",
       "\n",
       "    .dataframe tbody tr th {\n",
       "        vertical-align: top;\n",
       "    }\n",
       "\n",
       "    .dataframe thead th {\n",
       "        text-align: right;\n",
       "    }\n",
       "</style>\n",
       "<table border=\"1\" class=\"dataframe\">\n",
       "  <thead>\n",
       "    <tr style=\"text-align: right;\">\n",
       "      <th></th>\n",
       "      <th>submission_date</th>\n",
       "      <th>reviewer_id</th>\n",
       "      <th>product_id</th>\n",
       "      <th>product_name</th>\n",
       "      <th>product_brand</th>\n",
       "      <th>site_category_lv1</th>\n",
       "      <th>site_category_lv2</th>\n",
       "      <th>review_title</th>\n",
       "      <th>overall_rating</th>\n",
       "      <th>recommend_to_a_friend</th>\n",
       "      <th>review_text</th>\n",
       "      <th>reviewer_birth_year</th>\n",
       "      <th>reviewer_gender</th>\n",
       "      <th>reviewer_state</th>\n",
       "    </tr>\n",
       "  </thead>\n",
       "  <tbody>\n",
       "    <tr>\n",
       "      <th>0</th>\n",
       "      <td>2018-01-01 00:11:28</td>\n",
       "      <td>d0fb1ca69422530334178f5c8624aa7a99da47907c44de...</td>\n",
       "      <td>132532965</td>\n",
       "      <td>Notebook Asus Vivobook Max X541NA-GO472T Intel...</td>\n",
       "      <td>NaN</td>\n",
       "      <td>Informática</td>\n",
       "      <td>Notebook</td>\n",
       "      <td>Bom</td>\n",
       "      <td>4</td>\n",
       "      <td>Yes</td>\n",
       "      <td>Estou contente com a compra entrega rápida o ú...</td>\n",
       "      <td>1958.0</td>\n",
       "      <td>F</td>\n",
       "      <td>RJ</td>\n",
       "    </tr>\n",
       "    <tr>\n",
       "      <th>1</th>\n",
       "      <td>2018-01-01 00:13:48</td>\n",
       "      <td>014d6dc5a10aed1ff1e6f349fb2b059a2d3de511c7538a...</td>\n",
       "      <td>22562178</td>\n",
       "      <td>Copo Acrílico Com Canudo 500ml Rocie</td>\n",
       "      <td>NaN</td>\n",
       "      <td>Utilidades Domésticas</td>\n",
       "      <td>Copos, Taças e Canecas</td>\n",
       "      <td>Preço imbatível, ótima qualidade</td>\n",
       "      <td>4</td>\n",
       "      <td>Yes</td>\n",
       "      <td>Por apenas R$1994.20,eu consegui comprar esse ...</td>\n",
       "      <td>1996.0</td>\n",
       "      <td>M</td>\n",
       "      <td>SC</td>\n",
       "    </tr>\n",
       "    <tr>\n",
       "      <th>2</th>\n",
       "      <td>2018-01-01 00:26:02</td>\n",
       "      <td>44f2c8edd93471926fff601274b8b2b5c4824e386ae4f2...</td>\n",
       "      <td>113022329</td>\n",
       "      <td>Panela de Pressão Elétrica Philips Walita Dail...</td>\n",
       "      <td>philips walita</td>\n",
       "      <td>Eletroportáteis</td>\n",
       "      <td>Panela Elétrica</td>\n",
       "      <td>ATENDE TODAS AS EXPECTATIVA.</td>\n",
       "      <td>4</td>\n",
       "      <td>Yes</td>\n",
       "      <td>SUPERA EM AGILIDADE E PRATICIDADE OUTRAS PANEL...</td>\n",
       "      <td>1984.0</td>\n",
       "      <td>M</td>\n",
       "      <td>SP</td>\n",
       "    </tr>\n",
       "    <tr>\n",
       "      <th>3</th>\n",
       "      <td>2018-01-01 00:35:54</td>\n",
       "      <td>ce741665c1764ab2d77539e18d0e4f66dde6213c9f0863...</td>\n",
       "      <td>113851581</td>\n",
       "      <td>Betoneira Columbus - Roma Brinquedos</td>\n",
       "      <td>roma jensen</td>\n",
       "      <td>Brinquedos</td>\n",
       "      <td>Veículos de Brinquedo</td>\n",
       "      <td>presente mais que desejado</td>\n",
       "      <td>4</td>\n",
       "      <td>Yes</td>\n",
       "      <td>MEU FILHO AMOU! PARECE DE VERDADE COM TANTOS D...</td>\n",
       "      <td>1985.0</td>\n",
       "      <td>F</td>\n",
       "      <td>SP</td>\n",
       "    </tr>\n",
       "    <tr>\n",
       "      <th>4</th>\n",
       "      <td>2018-01-01 01:00:28</td>\n",
       "      <td>7d7b6b18dda804a897359276cef0ca252f9932bf4b5c8e...</td>\n",
       "      <td>131788803</td>\n",
       "      <td>Smart TV LED 43\" LG 43UJ6525 Ultra HD 4K com C...</td>\n",
       "      <td>lg</td>\n",
       "      <td>TV e Home Theater</td>\n",
       "      <td>TV</td>\n",
       "      <td>Sem duvidas, excelente</td>\n",
       "      <td>5</td>\n",
       "      <td>Yes</td>\n",
       "      <td>A entrega foi no prazo, as americanas estão de...</td>\n",
       "      <td>1994.0</td>\n",
       "      <td>M</td>\n",
       "      <td>MG</td>\n",
       "    </tr>\n",
       "    <tr>\n",
       "      <th>...</th>\n",
       "      <td>...</td>\n",
       "      <td>...</td>\n",
       "      <td>...</td>\n",
       "      <td>...</td>\n",
       "      <td>...</td>\n",
       "      <td>...</td>\n",
       "      <td>...</td>\n",
       "      <td>...</td>\n",
       "      <td>...</td>\n",
       "      <td>...</td>\n",
       "      <td>...</td>\n",
       "      <td>...</td>\n",
       "      <td>...</td>\n",
       "      <td>...</td>\n",
       "    </tr>\n",
       "    <tr>\n",
       "      <th>132368</th>\n",
       "      <td>2018-05-31 23:30:50</td>\n",
       "      <td>15f20e95ff44163f3175aaf67a5ae4a94d5030b409e521...</td>\n",
       "      <td>17962233</td>\n",
       "      <td>Carregador De Pilha Sony + 4 Pilhas Aa 2500mah</td>\n",
       "      <td>NaN</td>\n",
       "      <td>Câmeras e Filmadoras</td>\n",
       "      <td>Acessórios para Câmeras e Filmadoras</td>\n",
       "      <td>Ótimo produto!</td>\n",
       "      <td>5</td>\n",
       "      <td>Yes</td>\n",
       "      <td>Vale muito, estou usando no controle do Xbox e...</td>\n",
       "      <td>1988.0</td>\n",
       "      <td>M</td>\n",
       "      <td>RS</td>\n",
       "    </tr>\n",
       "    <tr>\n",
       "      <th>132369</th>\n",
       "      <td>2018-05-31 23:42:25</td>\n",
       "      <td>def7cf9028b0673ab8bca3b1d06e085461fafb88cd48d9...</td>\n",
       "      <td>132631701</td>\n",
       "      <td>Mop Giratório Fit + Refil Extra - At Home</td>\n",
       "      <td>NaN</td>\n",
       "      <td>Utilidades Domésticas</td>\n",
       "      <td>Material de Limpeza</td>\n",
       "      <td>Sensacional</td>\n",
       "      <td>5</td>\n",
       "      <td>Yes</td>\n",
       "      <td>Prático e barato, super indico o produto para ...</td>\n",
       "      <td>1979.0</td>\n",
       "      <td>F</td>\n",
       "      <td>SP</td>\n",
       "    </tr>\n",
       "    <tr>\n",
       "      <th>132370</th>\n",
       "      <td>2018-05-31 23:44:16</td>\n",
       "      <td>7bcbf542f5d7dd9a9a192a6805adba7a7a4c1ce3bf00df...</td>\n",
       "      <td>16095859</td>\n",
       "      <td>Fita Led 5m Rgb 3528 Siliconada Com 300 Leds C...</td>\n",
       "      <td>NaN</td>\n",
       "      <td>Automotivo</td>\n",
       "      <td>Iluminação</td>\n",
       "      <td>Ótimo produto</td>\n",
       "      <td>4</td>\n",
       "      <td>Yes</td>\n",
       "      <td>Chegou antes do prazo previsto e corresponde a...</td>\n",
       "      <td>1979.0</td>\n",
       "      <td>F</td>\n",
       "      <td>PR</td>\n",
       "    </tr>\n",
       "    <tr>\n",
       "      <th>132371</th>\n",
       "      <td>2018-05-31 23:46:48</td>\n",
       "      <td>e6fb0b19277d01c2a300c7837a105f3c369377e92f9c19...</td>\n",
       "      <td>6774907</td>\n",
       "      <td>Etiquetas Jurídicas Vade Mecum - Marca Fácil</td>\n",
       "      <td>marca facil</td>\n",
       "      <td>Papelaria</td>\n",
       "      <td>Material de Escritório</td>\n",
       "      <td>O produto não é bom.</td>\n",
       "      <td>1</td>\n",
       "      <td>No</td>\n",
       "      <td>Material fraco, poderia ser melhor. Ficou deve...</td>\n",
       "      <td>1991.0</td>\n",
       "      <td>M</td>\n",
       "      <td>RJ</td>\n",
       "    </tr>\n",
       "    <tr>\n",
       "      <th>132372</th>\n",
       "      <td>2018-05-31 23:50:33</td>\n",
       "      <td>ea9467aa73271fb4f68c04f4dd4f4eef304d6ee85441fb...</td>\n",
       "      <td>114081902</td>\n",
       "      <td>Painel de Fotos Bee Colection Rue Bac (74x94x3...</td>\n",
       "      <td>kapos</td>\n",
       "      <td>Decoração</td>\n",
       "      <td>Painel de Fotos</td>\n",
       "      <td>Produto não entregue</td>\n",
       "      <td>1</td>\n",
       "      <td>No</td>\n",
       "      <td>Comprei esse produto, quando chegou estava com...</td>\n",
       "      <td>1982.0</td>\n",
       "      <td>F</td>\n",
       "      <td>ES</td>\n",
       "    </tr>\n",
       "  </tbody>\n",
       "</table>\n",
       "<p>132373 rows × 14 columns</p>\n",
       "</div>"
      ],
      "text/plain": [
       "            submission_date  \\\n",
       "0       2018-01-01 00:11:28   \n",
       "1       2018-01-01 00:13:48   \n",
       "2       2018-01-01 00:26:02   \n",
       "3       2018-01-01 00:35:54   \n",
       "4       2018-01-01 01:00:28   \n",
       "...                     ...   \n",
       "132368  2018-05-31 23:30:50   \n",
       "132369  2018-05-31 23:42:25   \n",
       "132370  2018-05-31 23:44:16   \n",
       "132371  2018-05-31 23:46:48   \n",
       "132372  2018-05-31 23:50:33   \n",
       "\n",
       "                                              reviewer_id product_id  \\\n",
       "0       d0fb1ca69422530334178f5c8624aa7a99da47907c44de...  132532965   \n",
       "1       014d6dc5a10aed1ff1e6f349fb2b059a2d3de511c7538a...   22562178   \n",
       "2       44f2c8edd93471926fff601274b8b2b5c4824e386ae4f2...  113022329   \n",
       "3       ce741665c1764ab2d77539e18d0e4f66dde6213c9f0863...  113851581   \n",
       "4       7d7b6b18dda804a897359276cef0ca252f9932bf4b5c8e...  131788803   \n",
       "...                                                   ...        ...   \n",
       "132368  15f20e95ff44163f3175aaf67a5ae4a94d5030b409e521...   17962233   \n",
       "132369  def7cf9028b0673ab8bca3b1d06e085461fafb88cd48d9...  132631701   \n",
       "132370  7bcbf542f5d7dd9a9a192a6805adba7a7a4c1ce3bf00df...   16095859   \n",
       "132371  e6fb0b19277d01c2a300c7837a105f3c369377e92f9c19...    6774907   \n",
       "132372  ea9467aa73271fb4f68c04f4dd4f4eef304d6ee85441fb...  114081902   \n",
       "\n",
       "                                             product_name   product_brand  \\\n",
       "0       Notebook Asus Vivobook Max X541NA-GO472T Intel...             NaN   \n",
       "1                    Copo Acrílico Com Canudo 500ml Rocie             NaN   \n",
       "2       Panela de Pressão Elétrica Philips Walita Dail...  philips walita   \n",
       "3                    Betoneira Columbus - Roma Brinquedos     roma jensen   \n",
       "4       Smart TV LED 43\" LG 43UJ6525 Ultra HD 4K com C...              lg   \n",
       "...                                                   ...             ...   \n",
       "132368     Carregador De Pilha Sony + 4 Pilhas Aa 2500mah             NaN   \n",
       "132369          Mop Giratório Fit + Refil Extra - At Home             NaN   \n",
       "132370  Fita Led 5m Rgb 3528 Siliconada Com 300 Leds C...             NaN   \n",
       "132371       Etiquetas Jurídicas Vade Mecum - Marca Fácil     marca facil   \n",
       "132372  Painel de Fotos Bee Colection Rue Bac (74x94x3...           kapos   \n",
       "\n",
       "            site_category_lv1                     site_category_lv2  \\\n",
       "0                 Informática                              Notebook   \n",
       "1       Utilidades Domésticas                Copos, Taças e Canecas   \n",
       "2             Eletroportáteis                       Panela Elétrica   \n",
       "3                  Brinquedos                 Veículos de Brinquedo   \n",
       "4           TV e Home Theater                                    TV   \n",
       "...                       ...                                   ...   \n",
       "132368   Câmeras e Filmadoras  Acessórios para Câmeras e Filmadoras   \n",
       "132369  Utilidades Domésticas                   Material de Limpeza   \n",
       "132370             Automotivo                            Iluminação   \n",
       "132371              Papelaria                Material de Escritório   \n",
       "132372              Decoração                       Painel de Fotos   \n",
       "\n",
       "                            review_title  overall_rating  \\\n",
       "0                                    Bom               4   \n",
       "1       Preço imbatível, ótima qualidade               4   \n",
       "2           ATENDE TODAS AS EXPECTATIVA.               4   \n",
       "3             presente mais que desejado               4   \n",
       "4                 Sem duvidas, excelente               5   \n",
       "...                                  ...             ...   \n",
       "132368                    Ótimo produto!               5   \n",
       "132369                       Sensacional               5   \n",
       "132370                     Ótimo produto               4   \n",
       "132371              O produto não é bom.               1   \n",
       "132372              Produto não entregue               1   \n",
       "\n",
       "       recommend_to_a_friend  \\\n",
       "0                        Yes   \n",
       "1                        Yes   \n",
       "2                        Yes   \n",
       "3                        Yes   \n",
       "4                        Yes   \n",
       "...                      ...   \n",
       "132368                   Yes   \n",
       "132369                   Yes   \n",
       "132370                   Yes   \n",
       "132371                    No   \n",
       "132372                    No   \n",
       "\n",
       "                                              review_text  \\\n",
       "0       Estou contente com a compra entrega rápida o ú...   \n",
       "1       Por apenas R$1994.20,eu consegui comprar esse ...   \n",
       "2       SUPERA EM AGILIDADE E PRATICIDADE OUTRAS PANEL...   \n",
       "3       MEU FILHO AMOU! PARECE DE VERDADE COM TANTOS D...   \n",
       "4       A entrega foi no prazo, as americanas estão de...   \n",
       "...                                                   ...   \n",
       "132368  Vale muito, estou usando no controle do Xbox e...   \n",
       "132369  Prático e barato, super indico o produto para ...   \n",
       "132370  Chegou antes do prazo previsto e corresponde a...   \n",
       "132371  Material fraco, poderia ser melhor. Ficou deve...   \n",
       "132372  Comprei esse produto, quando chegou estava com...   \n",
       "\n",
       "        reviewer_birth_year reviewer_gender reviewer_state  \n",
       "0                    1958.0               F             RJ  \n",
       "1                    1996.0               M             SC  \n",
       "2                    1984.0               M             SP  \n",
       "3                    1985.0               F             SP  \n",
       "4                    1994.0               M             MG  \n",
       "...                     ...             ...            ...  \n",
       "132368               1988.0               M             RS  \n",
       "132369               1979.0               F             SP  \n",
       "132370               1979.0               F             PR  \n",
       "132371               1991.0               M             RJ  \n",
       "132372               1982.0               F             ES  \n",
       "\n",
       "[132373 rows x 14 columns]"
      ]
     },
     "execution_count": 2,
     "metadata": {},
     "output_type": "execute_result"
    }
   ],
   "source": [
    "df_reviews = pd.read_csv('B2W-Reviews01.csv')\n",
    "df_reviews"
   ]
  },
  {
   "cell_type": "markdown",
   "metadata": {},
   "source": [
    "2. Remove linhas sem texto da coluna **review_test**."
   ]
  },
  {
   "cell_type": "code",
   "execution_count": 3,
   "metadata": {},
   "outputs": [],
   "source": [
    "df_reviews = df_reviews.dropna(subset=['review_text'])"
   ]
  },
  {
   "cell_type": "markdown",
   "metadata": {},
   "source": [
    "3. Quantifica o total de números de avaliações para possuir uma classificação mais democrática e não enviesar os resultados."
   ]
  },
  {
   "cell_type": "code",
   "execution_count": 4,
   "metadata": {},
   "outputs": [
    {
     "data": {
      "text/plain": [
       "overall_rating\n",
       "5    47329\n",
       "4    31987\n",
       "1    25646\n",
       "3    16010\n",
       "2     8126\n",
       "Name: count, dtype: int64"
      ]
     },
     "execution_count": 4,
     "metadata": {},
     "output_type": "execute_result"
    }
   ],
   "source": [
    "df_reviews['overall_rating'].value_counts()"
   ]
  },
  {
   "cell_type": "markdown",
   "metadata": {},
   "source": [
    "4. Classifica a coluna **rating** por meio de sua nota de avaliação, para avaliações superiores a 3, a linha recebe *1*, caso contrário a linha recebe *0*."
   ]
  },
  {
   "cell_type": "code",
   "execution_count": 5,
   "metadata": {},
   "outputs": [
    {
     "name": "stderr",
     "output_type": "stream",
     "text": [
      "C:\\Users\\gabri\\AppData\\Local\\Temp\\ipykernel_23764\\816953379.py:1: SettingWithCopyWarning: \n",
      "A value is trying to be set on a copy of a slice from a DataFrame.\n",
      "Try using .loc[row_indexer,col_indexer] = value instead\n",
      "\n",
      "See the caveats in the documentation: https://pandas.pydata.org/pandas-docs/stable/user_guide/indexing.html#returning-a-view-versus-a-copy\n",
      "  df_reviews['rating'] = df_reviews['overall_rating'].apply(lambda x: 1 if x > 3 else 0)\n"
     ]
    }
   ],
   "source": [
    "df_reviews['rating'] = df_reviews['overall_rating'].apply(lambda x: 1 if x > 3 else 0)"
   ]
  },
  {
   "cell_type": "markdown",
   "metadata": {},
   "source": [
    "5. Verifica a quantidade de **rating** com valores *1* e *0*."
   ]
  },
  {
   "cell_type": "code",
   "execution_count": 6,
   "metadata": {},
   "outputs": [
    {
     "data": {
      "text/plain": [
       "rating\n",
       "1         79316\n",
       "0         49782\n",
       "Name: count, dtype: int64"
      ]
     },
     "execution_count": 6,
     "metadata": {},
     "output_type": "execute_result"
    }
   ],
   "source": [
    "df_reviews[['rating']].value_counts()"
   ]
  },
  {
   "cell_type": "markdown",
   "metadata": {},
   "source": [
    "6. Define as variáveis de entrada e saída."
   ]
  },
  {
   "cell_type": "code",
   "execution_count": 7,
   "metadata": {},
   "outputs": [],
   "source": [
    "X = df_reviews['review_text']\n",
    "y = df_reviews['rating']"
   ]
  },
  {
   "cell_type": "markdown",
   "metadata": {},
   "source": [
    "## 📑 Pré-processamento de texto\n",
    "1. Função para adicionar o prefixo \"NAO__\" após certas palavras negativas pausando nas pontuações."
   ]
  },
  {
   "cell_type": "code",
   "execution_count": 8,
   "metadata": {},
   "outputs": [],
   "source": [
    "def add_negation_prefix(text):\n",
    "    tokens = re.findall(r'(?u)\\b\\w+\\b|[^\\w\\s]', text)\n",
    "    negations = {\"não\", \"nem\", \"nunca\", \"jamais\", \"tampouco\"}\n",
    "    punctuation = {\".\", \",\", \"?\", \"!\", \";\"}\n",
    "\n",
    "    new_tokens = []\n",
    "    negate = False\n",
    "\n",
    "    for token in tokens:\n",
    "        if token in punctuation:\n",
    "            new_tokens.append(token)\n",
    "            negate = False\n",
    "        elif token.lower() in negations:\n",
    "            new_tokens.append(token)\n",
    "            negate = True\n",
    "        elif negate:\n",
    "            new_tokens.append(f\"NAO__{token}\")\n",
    "        else:\n",
    "            new_tokens.append(token)\n",
    "    return \" \".join(new_tokens)"
   ]
  },
  {
   "cell_type": "markdown",
   "metadata": {},
   "source": [
    "2. Realiza a divisão dos dados para **treinamento** e **teste**. "
   ]
  },
  {
   "cell_type": "code",
   "execution_count": 9,
   "metadata": {},
   "outputs": [],
   "source": [
    "X_train, X_test, y_train, y_test = train_test_split(X, y, test_size=0.2)"
   ]
  },
  {
   "cell_type": "markdown",
   "metadata": {},
   "source": [
    "3. Aplica o pré-processamento para os dados advindos da adição do prefixo \"NAO__\"."
   ]
  },
  {
   "cell_type": "code",
   "execution_count": 10,
   "metadata": {},
   "outputs": [],
   "source": [
    "X_train_neg = X_train.apply(add_negation_prefix)\n",
    "X_test_neg = X_test.apply(add_negation_prefix)"
   ]
  },
  {
   "cell_type": "markdown",
   "metadata": {},
   "source": [
    "## 🔗 Vetorização\n",
    "1. Vetoriza esses dados *COM* acréscimo negativo."
   ]
  },
  {
   "cell_type": "code",
   "execution_count": 11,
   "metadata": {},
   "outputs": [],
   "source": [
    "vectorizer_neg = TfidfVectorizer()\n",
    "\n",
    "X_train_vec_neg = vectorizer_neg.fit_transform(X_train_neg)\n",
    "X_test_vec_neg = vectorizer_neg.transform(X_test_neg)"
   ]
  },
  {
   "cell_type": "markdown",
   "metadata": {},
   "source": [
    "2. Vetoriza os dados *SEM* o acréscimo negativo."
   ]
  },
  {
   "cell_type": "code",
   "execution_count": 12,
   "metadata": {},
   "outputs": [],
   "source": [
    "vectorizer_normal = TfidfVectorizer()\n",
    "\n",
    "X_train_vec_normal = vectorizer_normal.fit_transform(X_train)\n",
    "X_test_vec_normal = vectorizer_normal.transform(X_test)"
   ]
  },
  {
   "cell_type": "markdown",
   "metadata": {},
   "source": [
    "## ⛏️ Modelagem e avaliação\n",
    "1. Treina o modelo **Naive Bayes** para a abordagem de dados *COM* negação obtendo o valor da acurácia."
   ]
  },
  {
   "cell_type": "code",
   "execution_count": 13,
   "metadata": {},
   "outputs": [
    {
     "name": "stdout",
     "output_type": "stream",
     "text": [
      "Acurácia com NAO__: 0.8534\n"
     ]
    }
   ],
   "source": [
    "model_neg = MultinomialNB()\n",
    "model_neg.fit(X_train_vec_neg, y_train)\n",
    "\n",
    "y_pred_neg = model_neg.predict(X_test_vec_neg)\n",
    "\n",
    "acc_neg = accuracy_score(y_test, y_pred_neg)\n",
    "print(f'Acurácia com NAO__: {acc_neg:.4f}')"
   ]
  },
  {
   "cell_type": "markdown",
   "metadata": {},
   "source": [
    "2. Treina o modelo **Naive Bayes** para a abordagem de dados *SEM* negação obtendo o valor da acurácia."
   ]
  },
  {
   "cell_type": "code",
   "execution_count": 14,
   "metadata": {},
   "outputs": [
    {
     "name": "stdout",
     "output_type": "stream",
     "text": [
      "Acurácia sem NAO__: 0.8550\n"
     ]
    }
   ],
   "source": [
    "model_normal = MultinomialNB()\n",
    "model_normal.fit(X_train_vec_normal, y_train)\n",
    "\n",
    "y_pred_normal = model_normal.predict(X_test_vec_normal)\n",
    "\n",
    "acc_normal = accuracy_score(y_test, y_pred_normal)\n",
    "print(f'Acurácia sem NAO__: {acc_normal:.4f}')"
   ]
  },
  {
   "cell_type": "markdown",
   "metadata": {},
   "source": [
    "3. Plot para melhor visualização de comparação das acurácias."
   ]
  },
  {
   "cell_type": "code",
   "execution_count": 15,
   "metadata": {},
   "outputs": [
    {
     "data": {
      "image/png": "[encoded data removed]",
      "text/plain": [
       "<Figure size 640x480 with 1 Axes>"
      ]
     },
     "metadata": {},
     "output_type": "display_data"
    }
   ],
   "source": [
    "fig, ax = plt.subplots()\n",
    "ax.bar(['Sem NAO__', 'Com NAO__'], [acc_normal, acc_neg], color=['pink', 'purple'])\n",
    "ax.set_title('Comparação de Acurácia')\n",
    "ax.set_ylabel('Acurácia')\n",
    "ax.set_ylim(0, 1)\n",
    "\n",
    "for i, v in enumerate([acc_normal, acc_neg]):\n",
    "    ax.text(i, v + 0.02, f\"{v:.2f}\", ha='center', fontsize=12)\n",
    "\n",
    "plt.show()"
   ]
  }
 ],
 "metadata": {
  "kernelspec": {
   "display_name": "Python 3",
   "language": "python",
   "name": "python3"
  },
  "language_info": {
   "codemirror_mode": {
    "name": "ipython",
    "version": 3
   },
   "file_extension": ".py",
   "mimetype": "text/x-python",
   "name": "python",
   "nbconvert_exporter": "python",
   "pygments_lexer": "ipython3",
   "version": "3.12.1"
  }
 },
 "nbformat": 4,
 "nbformat_minor": 2
}
